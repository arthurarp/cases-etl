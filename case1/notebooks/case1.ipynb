{
 "cells": [
  {
   "cell_type": "markdown",
   "id": "55739050",
   "metadata": {},
   "source": [
    "# Definindo o caminho onde estão disponíveis os arquivos de entrada."
   ]
  },
  {
   "cell_type": "code",
   "execution_count": 15,
   "id": "4d362525-dd41-4c05-bc76-8a14afcce4c1",
   "metadata": {},
   "outputs": [],
   "source": [
    "import os\n",
    "\n",
    "current_path = os.getcwd()\n",
    "\n",
    "previous_path = os.path.abspath(os.path.join(current_path, os.pardir))"
   ]
  },
  {
   "cell_type": "markdown",
   "id": "6e3aff78",
   "metadata": {},
   "source": [
    "# Instala a lib openpyxl para lidar com arquivos xlsx"
   ]
  },
  {
   "cell_type": "code",
   "execution_count": 18,
   "id": "4d7ff5ad",
   "metadata": {},
   "outputs": [
    {
     "name": "stdout",
     "output_type": "stream",
     "text": [
      "Defaulting to user installation because normal site-packages is not writeable\n",
      "Collecting openpyxl\n",
      "  Downloading openpyxl-3.1.2-py2.py3-none-any.whl (249 kB)\n",
      "\u001b[2K     \u001b[38;2;114;156;31m━━━━━━━━━━━━━━━━━━━━━━━━━━━━━━━━━━━━━━━\u001b[0m \u001b[32m250.0/250.0 KB\u001b[0m \u001b[31m1.6 MB/s\u001b[0m eta \u001b[36m0:00:00\u001b[0m[36m0:00:01\u001b[0m[36m0:00:01\u001b[0m:01\u001b[0m\n",
      "\u001b[?25hCollecting et-xmlfile\n",
      "  Downloading et_xmlfile-1.1.0-py3-none-any.whl (4.7 kB)\n",
      "Installing collected packages: et-xmlfile, openpyxl\n",
      "Successfully installed et-xmlfile-1.1.0 openpyxl-3.1.2\n"
     ]
    }
   ],
   "source": [
    "!pip install openpyxl"
   ]
  },
  {
   "cell_type": "markdown",
   "id": "0e02d706",
   "metadata": {},
   "source": [
    "# Lendo a aba 'DEPARA_CONTAS_FINANC' do arquivo de entrada e salvando-o em um pandas DataFrame."
   ]
  },
  {
   "cell_type": "code",
   "execution_count": 26,
   "id": "8f022642-b44b-4e53-8a29-748aaa8713f9",
   "metadata": {},
   "outputs": [
    {
     "name": "stdout",
     "output_type": "stream",
     "text": [
      "<class 'pandas.core.frame.DataFrame'>\n",
      "RangeIndex: 116 entries, 0 to 115\n",
      "Data columns (total 3 columns):\n",
      " #   Column                      Non-Null Count  Dtype \n",
      "---  ------                      --------------  ----- \n",
      " 0   ds_conta_financeira         116 non-null    object\n",
      " 1   sk_normal_conta_financeira  116 non-null    int64 \n",
      " 2   ds_normal_conta_financeira  116 non-null    object\n",
      "dtypes: int64(1), object(2)\n",
      "memory usage: 2.8+ KB\n"
     ]
    }
   ],
   "source": [
    "import pandas as pd\n",
    "\n",
    "filepath = previous_path + '/data/' + 'Dados Financeiros - Dados Recebidos.xlsx'\n",
    "\n",
    "sheet_name = 'DEPARA_CONTAS_FINANC'\n",
    "\n",
    "df_depara_contas_financ = pd.read_excel(filepath, sheet_name=sheet_name)\n",
    "\n",
    "df_depara_contas_financ.info()"
   ]
  },
  {
   "cell_type": "markdown",
   "id": "40cac6d7",
   "metadata": {},
   "source": [
    "# Instalando o psycopg2 para realizar a conexão com o banco de dados"
   ]
  },
  {
   "cell_type": "code",
   "execution_count": 33,
   "id": "399443b1",
   "metadata": {},
   "outputs": [
    {
     "name": "stdout",
     "output_type": "stream",
     "text": [
      "Defaulting to user installation because normal site-packages is not writeable\n",
      "Collecting psycopg2-binary\n",
      "  Downloading psycopg2_binary-2.9.7-cp310-cp310-manylinux_2_17_x86_64.manylinux2014_x86_64.whl (3.0 MB)\n",
      "\u001b[2K     \u001b[38;2;114;156;31m━━━━━━━━━━━━━━━━━━━━━━━━━━━━━━━━━━━━━━━━\u001b[0m \u001b[32m3.0/3.0 MB\u001b[0m \u001b[31m9.6 MB/s\u001b[0m eta \u001b[36m0:00:00\u001b[0m0m eta \u001b[36m0:00:01\u001b[0m36m0:00:01\u001b[0m\n",
      "\u001b[?25hInstalling collected packages: psycopg2-binary\n",
      "Successfully installed psycopg2-binary-2.9.7\n",
      "Note: you may need to restart the kernel to use updated packages.\n"
     ]
    }
   ],
   "source": [
    "pip install psycopg2-binary"
   ]
  },
  {
   "cell_type": "markdown",
   "id": "4f28b040",
   "metadata": {},
   "source": [
    "# Conectando ao banco de dados e definindo o cursor"
   ]
  },
  {
   "cell_type": "code",
   "execution_count": 48,
   "id": "60ca7ef5",
   "metadata": {},
   "outputs": [],
   "source": [
    "import psycopg2\n",
    "\n",
    "conn = psycopg2.connect(host=\"localhost\", database=\"case1_db\", user=\"admin\", password=\"pass\")\n",
    "\n",
    "cur = conn.cursor()"
   ]
  },
  {
   "cell_type": "markdown",
   "id": "60751047",
   "metadata": {},
   "source": [
    "# Adicionando os dados ao banco"
   ]
  },
  {
   "cell_type": "code",
   "execution_count": 52,
   "id": "588855f5",
   "metadata": {},
   "outputs": [],
   "source": [
    "\n",
    "for index, row in df_depara_contas_financ.iterrows():\n",
    "  pk_conta_financeira = row['sk_normal_conta_financeira']\n",
    "  ds_normal_conta_financeira = row['ds_normal_conta_financeira']\n",
    "  # print(pk_conta_financeira, ds_normal_conta_financeira)\n",
    "  sql = \"INSERT INTO DEPARA_CONTA_FINANCEIRA (DS_NORMAL_CONTA_FINANCEIRA) VALUES (%s)\"\n",
    "\n",
    "  cur.execute(sql, (ds_normal_conta_financeira,))\n",
    "\n",
    "conn.commit()"
   ]
  }
 ],
 "metadata": {
  "kernelspec": {
   "display_name": "Python 3 (ipykernel)",
   "language": "python",
   "name": "python3"
  },
  "language_info": {
   "codemirror_mode": {
    "name": "ipython",
    "version": 3
   },
   "file_extension": ".py",
   "mimetype": "text/x-python",
   "name": "python",
   "nbconvert_exporter": "python",
   "pygments_lexer": "ipython3",
   "version": "3.11.5"
  }
 },
 "nbformat": 4,
 "nbformat_minor": 5
}
